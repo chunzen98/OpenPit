{
 "cells": [
  {
   "cell_type": "code",
   "execution_count": null,
   "metadata": {},
   "outputs": [],
   "source": [
    "import Pkg # Importa el administrador de paquetes Pkg\n",
    "Pkg.add(\"JuMP\") # Instala el paquete JuMP"
   ]
  },
  {
   "cell_type": "code",
   "execution_count": null,
   "metadata": {},
   "outputs": [],
   "source": [
    "Pkg.add(\"GLPK\") # Instala el paquete GLPK"
   ]
  },
  {
   "cell_type": "code",
   "execution_count": null,
   "metadata": {},
   "outputs": [],
   "source": [
    "Pkg.build(\"GLPK\")"
   ]
  },
  {
   "cell_type": "code",
   "execution_count": 87,
   "metadata": {},
   "outputs": [
    {
     "name": "stdout",
     "output_type": "stream",
     "text": [
      "\u001b[32m\u001b[1m  Updating\u001b[22m\u001b[39m registry at `C:\\Users\\Chunzen\\.julia\\registries\\General`\n",
      "\u001b[32m\u001b[1m  Updating\u001b[22m\u001b[39m git-repo `https://github.com/JuliaRegistries/General.git`\n",
      "\u001b[2K\u001b[?25h[1mFetching:\u001b[22m\u001b[39m [========================================>]  100.0 %.0 %\u001b[36m\u001b[1mFetching:\u001b[22m\u001b[39m [===>                                     ]  5.5 %\u001b[36m\u001b[1mFetching:\u001b[22m\u001b[39m [====>                                    ]  8.1 %\u001b[36m\u001b[1mFetching:\u001b[22m\u001b[39m [======>                                  ]  13.6 %                                ]  19.8 %\u001b[36m\u001b[1mFetching:\u001b[22m\u001b[39m [=========>                               ]  21.1 %23.6 %.2 %8 %>                           ]  30.6 %>                          ]  33.2 %\u001b[36m\u001b[1mFetching:\u001b[22m\u001b[39m [===============>                         ]  36.0 % %\u001b[36m\u001b[1mFetching:\u001b[22m\u001b[39m [=================>                       ]  40.9 %]  42.5 %\u001b[36m\u001b[1mFetching:\u001b[22m\u001b[39m [==================>                      ]  44.5 %6 %\u001b[36m\u001b[1mFetching:\u001b[22m\u001b[39m [====================>                    ]  48.7 %\u001b[36m\u001b[1mFetching:\u001b[22m\u001b[39m [=====================>                   ]  50.6 % %\u001b[36m\u001b[1mFetching:\u001b[22m\u001b[39m [=======================>                 ]  56.4 %]  59.6 %]  62.3 %============================>            ]  67.5 %4 %]  73.4 %0 % % [=================================>       ]  80.9 %\u001b[36m\u001b[1mFetching:\u001b[22m\u001b[39m [==================================>      ]  83.1 %\u001b[36m\u001b[1mFetching:\u001b[22m\u001b[39m [===================================>     ]  85.3 % %\u001b[36m\u001b[1mFetching:\u001b[22m\u001b[39m [====================================>    ]  88.6 %\u001b[36m\u001b[1mFetching:\u001b[22m\u001b[39m [=====================================>   ]  91.2 % %\u001b[32m\u001b[1m Resolving\u001b[22m\u001b[39m package versions...\n",
      "\u001b[32m\u001b[1m Installed\u001b[22m\u001b[39m Requires ─────── v0.5.2\n",
      "\u001b[32m\u001b[1m Installed\u001b[22m\u001b[39m DataStructures ─ v0.17.0\n",
      "\u001b[32m\u001b[1m Installed\u001b[22m\u001b[39m RandomNumbers ── v1.3.0\n",
      "\u001b[32m\u001b[1m  Updating\u001b[22m\u001b[39m `C:\\Users\\Chunzen\\.julia\\environments\\v1.1\\Project.toml`\n",
      " \u001b[90m [e6cf234a]\u001b[39m\u001b[92m + RandomNumbers v1.3.0\u001b[39m\n",
      "\u001b[32m\u001b[1m  Updating\u001b[22m\u001b[39m `C:\\Users\\Chunzen\\.julia\\environments\\v1.1\\Manifest.toml`\n",
      " \u001b[90m [b99e7846]\u001b[39m\u001b[31m ? BinaryProvider v0.5.4 ⇒ v0.5.6\u001b[39m\n",
      " \u001b[90m [864edb3b]\u001b[39m\u001b[93m ↑ DataStructures v0.15.0 ⇒ v0.17.0\u001b[39m\n",
      " \u001b[90m [e6cf234a]\u001b[39m\u001b[92m + RandomNumbers v1.3.0\u001b[39m\n",
      " \u001b[90m [ae029012]\u001b[39m\u001b[92m + Requires v0.5.2\u001b[39m\n"
     ]
    }
   ],
   "source": [
    "import Pkg # Importa el administrador de paquetes Pkg\n",
    "Pkg.add(\"RandomNumbers\")"
   ]
  },
  {
   "cell_type": "markdown",
   "metadata": {},
   "source": [
    "$$\n",
    "x_i = \\begin{cases}\n",
    "      1 : \\text{Se extrae el bloque i}\\\\\n",
    "      0 : \\text{No se extrae el bloque i}\\\\\n",
    "      \\end{cases} \\text{, con i = 1,...,18}\\\\\n",
    "maximizar \\:  \\sum\\limits_{i=1}^{18} (valor_i - costo_i)x_i \\\\\n",
    "s.a. \\:  x_a \\leq \\sum x_b \\\\\n",
    "x_a \\in \\text{Bloque extraido}\\\\\n",
    "b \\in \\text{Conjunto de precedencia para el bloque extraido}\\\\\n",
    "$$"
   ]
  },
  {
   "cell_type": "code",
   "execution_count": null,
   "metadata": {},
   "outputs": [],
   "source": [
    "using RandomNumbers.MersenneTwisters\n",
    "\n",
    "prec = open(\"newman1.prec\")\n",
    "upit = open(\"newman1.upit\")\n",
    "\n",
    "rng = MT19937(123)\n",
    "print(rand(rng, -10:10))\n",
    "\n",
    "open(\"newman1.prec\") do f\n",
    "    line = 1\n",
    "    while !eof(f)\n",
    "        x = readline(f)\n",
    "        \n",
    "        list = split(x)\n",
    "        #println(\"Numero \", list[1], \":\", line[2])\n",
    "        println(\"Numero \", list[2])\n",
    "        \n",
    "        n = size(list, 1)\n",
    "        println(\"largo \", n)\n",
    "        \n",
    "\n",
    "        for j in 3:(parse(Int64, list[2])+2)\n",
    "            print(list[j])\n",
    "        end\n",
    "        println()\n",
    "        println()\n",
    "        \n",
    "        line += 1\n",
    "    end\n",
    "end\n",
    "\n",
    "\n",
    "a = read(prec)\n",
    "\n",
    "\n",
    "close(prec)\n",
    "close(upit)"
   ]
  },
  {
   "cell_type": "code",
   "execution_count": null,
   "metadata": {},
   "outputs": [],
   "source": [
    "using JuMP\n",
    "using GLPK\n",
    "using RandomNumbers.MersenneTwisters\n",
    "\n",
    "# CONSTRUCCIÓN DEL MODELO\n",
    "modelo = Model(with_optimizer(GLPK.Optimizer))\n",
    "\n",
    "prec = open(\"newman1.prec\")\n",
    "blocks = open(\"newman1.blocks\")\n",
    "upit = open(\"newman1.upit\")\n",
    "\n",
    "\n",
    "c = []\n",
    "\n",
    "open(\"newman1.upit\") do f\n",
    "    line = 1\n",
    "    while !eof(f)\n",
    "        a = readline(f)\n",
    "        if(line >= 5)\n",
    "            list = split(a)            \n",
    "            append!(c, parse(Float64, list[2]))            \n",
    "        end\n",
    "        line += 1\n",
    "    end\n",
    "end\n",
    "\n",
    "#rng = MersenneTwister(1234);\n",
    "#rng = MT19937(123)\n",
    "\n",
    "print(rand(rng, -10:10))\n",
    "\n",
    "open(\"newman1.blocks\") do f\n",
    "    while !eof(f)\n",
    "        a = readline(f)        \n",
    "        list = split(a)\n",
    "        #append!(c, parse(Float64, list[10]))            \n",
    "        #append!(c, rand(rng, -10:10))          \n",
    "    end\n",
    "end\n",
    "\n",
    "# VARIABLES DE DECISIÓN\n",
    "@variable(modelo, x[1:1060], Bin) # Variable por cada bloque\n",
    "\n",
    "# FUNCIÓN OBJETIVO\n",
    "@objective(modelo, Max, sum(c[i]*x[i] for i in 1:1060))\n",
    "\n",
    "# RESTRICCIONES\n",
    "\n",
    "# Presedencia\n",
    "open(\"newman1.prec\") do f\n",
    "    while !eof(f)\n",
    "        a = readline(f)        \n",
    "        list = split(a)\n",
    "        n = size(list, 1)\n",
    "        if n != 2 \n",
    "            @constraint(modelo, parse(Int64, list[2]) * x[parse(Int64, list[1]) + 1] <= sum(x[parse(Int64, list[j]) + 1] for j in 3:(parse(Int64, list[2]) + 2)))\n",
    "        end        \n",
    "    end\n",
    "end\n",
    "\n",
    "#@constraint(modelo, 3*x[18] <= sum(x[j] for j in 12:14))\n",
    "\n",
    "\n",
    "\n",
    "optimize!(modelo)\n",
    "objective_value(modelo)\n",
    "\n",
    "print(\"Valor objetivo: \", objective_value(modelo), \". \\n\\n\") # Entrega el valor objetivo óptimo\n",
    "\n",
    "print(\"Valor de las variables\\n\")\n",
    "for i in 1:1060\n",
    "    print(\"Valor x\", i, \": \", value(x[i]), \"\\n\")\n",
    "end\n",
    "\n",
    "close(prec)\n",
    "close(blocks)\n",
    "close(upit)"
   ]
  },
  {
   "cell_type": "code",
   "execution_count": null,
   "metadata": {},
   "outputs": [],
   "source": []
  },
  {
   "cell_type": "raw",
   "metadata": {},
   "source": []
  }
 ],
 "metadata": {
  "kernelspec": {
   "display_name": "Julia 1.1.1",
   "language": "julia",
   "name": "julia-1.1"
  },
  "language_info": {
   "file_extension": ".jl",
   "mimetype": "application/julia",
   "name": "julia",
   "version": "1.1.1"
  }
 },
 "nbformat": 4,
 "nbformat_minor": 2
}
